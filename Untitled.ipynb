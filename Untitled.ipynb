{
 "cells": [
  {
   "cell_type": "code",
   "execution_count": 14,
   "metadata": {},
   "outputs": [],
   "source": [
    "import glob\n",
    "from scipy import ndimage\n",
    "import os\n",
    "import numpy as np\n",
    "import matplotlib.pyplot as plt"
   ]
  },
  {
   "cell_type": "code",
   "execution_count": 2,
   "metadata": {},
   "outputs": [],
   "source": [
    "path_img = \"/home/sansii/Downloads/Compressed/MiddEval3-data-Q/MiddEval3/trainingQ/\"\n",
    "path_disp = \"/home/sansii/Downloads/Compressed/MiddEval3-GT0-Q/MiddEval3/trainingQ/\""
   ]
  },
  {
   "cell_type": "code",
   "execution_count": 9,
   "metadata": {},
   "outputs": [],
   "source": [
    "def processs_input_image(image):\n",
    "    image=np.array(image,dtype=np.float32)\n",
    "    image=(image-np.mean(image))/np.std(image)\n",
    "    return image\n",
    "\n",
    "def convert_pfm_png(path):\n",
    "    out_disp = out = glob.glob(path_disp+\"*\")\n",
    "    print(\"Converting_started\")\n",
    "    for ou_disp in out_disp:\n",
    "        print(ou_disp)\n",
    "        os.system('convert'+' '+ou_disp+\"/disp0GT.pfm\"+' '+ou_disp+\"/disp.png\")\n",
    "    print(\"Converting_Finished\")\n",
    "def load_disp(path):\n",
    "    return np.round(ndimage.imread(path,flatten=True)/256.0)\n",
    "def load_middleburry(path, path_disp):\n",
    "    out_img = glob.glob(path+\"*\")\n",
    "    out_disp = out = glob.glob(path_disp+\"*\")\n",
    "    left_images = []\n",
    "    right_images = []\n",
    "    disp_images = []\n",
    "    i=0\n",
    "    \n",
    "    for ou_img, ou_disp in zip(out_img, out_disp):\n",
    "    \n",
    "        print('\\r', str((i/ (len(out) -1)) * 100),end='')\n",
    "        i = i+1\n",
    "        L_image = processs_input_image(ndimage.imread(ou_img+\"/im0.png\"))\n",
    "        R_image = processs_input_image(ndimage.imread(ou_img+\"/im1.png\"))\n",
    "        disp = load_disp(ou_disp+\"/disp.png\")\n",
    "        \n",
    "        \n",
    "        \n",
    "#         left_images.append(L_image)\n",
    "#         right_images.append(R_image)\n",
    "#         disp_images.append(disp)\n",
    "        \n",
    "    path = \"/media/sansii/Software/san_projects/Major_project/Middleburry_dataset/numpy\"\n",
    "    np.save(path+\"/left_images.npy\", left_images)\n",
    "    np.save(path+\"/right_images.npy\", right_images)\n",
    "    np.save(path+\"/disp_image.npy\", disp_images)\n",
    "\n"
   ]
  },
  {
   "cell_type": "code",
   "execution_count": 13,
   "metadata": {},
   "outputs": [],
   "source": [
    "path = \"/media/sansii/Software/san_projects/Major_project/Middleburry_dataset/numpy\"\n",
    "disp_images = np.load(path+\"/disp_image.npy\",allow_pickle=True)"
   ]
  },
  {
   "cell_type": "code",
   "execution_count": 28,
   "metadata": {},
   "outputs": [
    {
     "name": "stdout",
     "output_type": "stream",
     "text": [
      "[[ 11.  11.  11. ...  26.  26. 256.]\n",
      " [ 11.  11.  11. ...  26. 256. 256.]\n",
      " [ 11.  11.  11. ... 256. 256. 256.]\n",
      " ...\n",
      " [ 59.  59.  59. ...  59.  59.  59.]\n",
      " [ 60.  60.  60. ...  59.  59.  59.]\n",
      " [ 60.  60.  60. ...  59.  59.  59.]]\n",
      "Using matplotlib backend: TkAgg\n",
      "74.0\n"
     ]
    },
    {
     "data": {
      "text/plain": [
       "<matplotlib.image.AxesImage at 0x7fa918e16780>"
      ]
     },
     "execution_count": 28,
     "metadata": {},
     "output_type": "execute_result"
    }
   ],
   "source": [
    "out = ndimage.imread(\"/home/sansii/Downloads/Compressed/MiddEval3-GT0-Q/MiddEval3/trainingQ/ArtL/disp.png\")\n",
    "out = out / 255.0\n",
    "print()\n",
    "img = 4\n",
    "%matplotlib\n",
    "plt.figure(0)\n",
    "plt.imshow(disp_images[img],cmap='jet')\n",
    "print(disp_images[img][disp_images[img]<256].max())\n",
    "plt.figure(1)\n",
    "plt.imshow(out,cmap='jet')"
   ]
  },
  {
   "cell_type": "code",
   "execution_count": 29,
   "metadata": {},
   "outputs": [
    {
     "name": "stdout",
     "output_type": "stream",
     "text": [
      "0\n"
     ]
    }
   ],
   "source": [
    "cols =1240\n",
    "start=0\n",
    "end = cols\n",
    "\n",
    "while start<cols-1:\n",
    "#     for disp in range(n_classes):\n",
    "#         if (end-disp  > 0):\n",
    "#             if (cols > start-disp ):\n",
    "\n",
    "#                 left_features = h9_left[:,:,max(start,disp):min(end,cols),:]\n",
    "#                 right_features = h9_right[:,:,max(0,start-disp ):min(end-disp ,cols-disp),:]\n",
    "\n",
    "#                 multiplication = np.multiply(left_features,right_features)\n",
    "#                 inner_product = np.sum(multiplication,axis=3)\n",
    "#                 prod[:,:,max(start,disp):min(end,cols),disp]=inner_product\n",
    "\n",
    "    print(start)\n",
    "    start = end\n",
    "    end += cols\n"
   ]
  },
  {
   "cell_type": "code",
   "execution_count": null,
   "metadata": {},
   "outputs": [],
   "source": []
  }
 ],
 "metadata": {
  "kernelspec": {
   "display_name": "Python 3",
   "language": "python",
   "name": "python3"
  },
  "language_info": {
   "codemirror_mode": {
    "name": "ipython",
    "version": 3
   },
   "file_extension": ".py",
   "mimetype": "text/x-python",
   "name": "python",
   "nbconvert_exporter": "python",
   "pygments_lexer": "ipython3",
   "version": "3.6.9"
  }
 },
 "nbformat": 4,
 "nbformat_minor": 2
}
