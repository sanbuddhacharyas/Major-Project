{
 "cells": [
  {
   "cell_type": "code",
   "execution_count": 1,
   "metadata": {},
   "outputs": [],
   "source": [
    "import glob\n",
    "from scipy import ndimage\n",
    "import os\n",
    "import numpy as np"
   ]
  },
  {
   "cell_type": "code",
   "execution_count": 2,
   "metadata": {},
   "outputs": [],
   "source": [
    "path_img = \"/home/sansii/Downloads/Compressed/MiddEval3-data-Q/MiddEval3/trainingQ/\"\n",
    "path_disp = \"/home/sansii/Downloads/Compressed/MiddEval3-GT0-Q/MiddEval3/trainingQ/\""
   ]
  },
  {
   "cell_type": "code",
   "execution_count": 4,
   "metadata": {},
   "outputs": [],
   "source": [
    "def processs_input_image(image):\n",
    "    image=np.array(image,dtype=np.float32)\n",
    "    image=(image-np.mean(image))/np.std(image)\n",
    "    return image\n",
    "\n",
    "def convert_pfm_png(path):\n",
    "    out_disp = out = glob.glob(path_disp+\"*\")\n",
    "    print(\"Converting_started\")\n",
    "    for ou_disp in out_disp:\n",
    "        print(ou_disp)\n",
    "        os.system('convert'+' '+ou_disp+\"/disp0GT.pfm\"+' '+ou_disp+\"/disp.png\")\n",
    "    print(\"Converting_Finished\")\n",
    "def load_disp(path):\n",
    "    return np.round(ndimage.imread(path,flatten=True)/256.0)\n",
    "def load_middleburry(path, path_disp):\n",
    "    out_img = glob.glob(path+\"*\")\n",
    "    out_disp = out = glob.glob(path_disp+\"*\")\n",
    "    left_images = []\n",
    "    right_images = []\n",
    "    disp_images = []\n",
    "    i=0\n",
    "    \n",
    "    for ou_img, ou_disp in zip(out_img, out_disp):\n",
    "    \n",
    "        print('\\r', str((i/ (len(out) -1)) * 100),end='')\n",
    "        i = i+1\n",
    "        L_image = processs_input_image(ndimage.imread(ou_img+\"/im0.png\"))\n",
    "        R_image = processs_input_image(ndimage.imread(ou_img+\"/im1.png\"))\n",
    "        disp = load_disp(ou_disp+\"/disp.png\")\n",
    "        \n",
    "        left_images.append(L_image)\n",
    "        right_images.append(R_image)\n",
    "        disp_images.append(disp)\n",
    "    path = \"/media/sansii/Software/san_projects/Major_project/Middleburry_dataset/numpy\"\n",
    "    np.save(path+\"/left_images.npy\", left_images)\n",
    "    np.save(path+\"/right_images.npy\", right_images)\n",
    "    np.save(path+\"/disp_image.npy\", disp_images)\n",
    "\n"
   ]
  },
  {
   "cell_type": "code",
   "execution_count": 5,
   "metadata": {},
   "outputs": [
    {
     "name": "stdout",
     "output_type": "stream",
     "text": [
      " 100.07142857142864"
     ]
    }
   ],
   "source": [
    "load_middleburry(path_img, path_disp)"
   ]
  },
  {
   "cell_type": "code",
   "execution_count": null,
   "metadata": {},
   "outputs": [],
   "source": []
  }
 ],
 "metadata": {
  "kernelspec": {
   "display_name": "Python 3",
   "language": "python",
   "name": "python3"
  },
  "language_info": {
   "codemirror_mode": {
    "name": "ipython",
    "version": 3
   },
   "file_extension": ".py",
   "mimetype": "text/x-python",
   "name": "python",
   "nbconvert_exporter": "python",
   "pygments_lexer": "ipython3",
   "version": "3.6.9"
  }
 },
 "nbformat": 4,
 "nbformat_minor": 2
}
