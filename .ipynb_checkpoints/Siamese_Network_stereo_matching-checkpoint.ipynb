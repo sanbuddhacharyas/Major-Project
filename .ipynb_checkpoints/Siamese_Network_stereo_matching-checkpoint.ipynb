{
 "cells": [
  {
   "cell_type": "code",
   "execution_count": 1,
   "metadata": {},
   "outputs": [
    {
     "name": "stdout",
     "output_type": "stream",
     "text": [
      "Using matplotlib backend: TkAgg\n"
     ]
    }
   ],
   "source": [
    "import tensorflow as tf\n",
    "import cv2\n",
    "import tensorflow.keras as keras\n",
    "import matplotlib.pyplot as plt\n",
    "import numpy as np\n",
    "import glob\n",
    "%matplotlib"
   ]
  },
  {
   "cell_type": "code",
   "execution_count": 2,
   "metadata": {},
   "outputs": [
    {
     "data": {
      "text/plain": [
       "'2.1.0'"
      ]
     },
     "execution_count": 2,
     "metadata": {},
     "output_type": "execute_result"
    }
   ],
   "source": [
    "tf.__version__"
   ]
  },
  {
   "cell_type": "code",
   "execution_count": null,
   "metadata": {},
   "outputs": [],
   "source": [
    "def inner_product(left, right, disp, width):\n",
    "    \n",
    "    disp_vol = []\n",
    "  \n",
    "    for i in range(disp):\n",
    "        output = tf.reduce_sum(tf.keras.layers.multiply([left, right[:,disp-i-1:disp -1 -i + width,:,: ]]), axis = -1)\n",
    "        disp_vol.append(output)\n",
    "    logits = tf.transpose(tf.stack(disp_vol),[1,2,3,0])\n",
    "    logits = tf.nn.softmax(logits)\n",
    "    return logits"
   ]
  },
  {
   "cell_type": "code",
   "execution_count": null,
   "metadata": {},
   "outputs": [],
   "source": [
    "def valid_pixels(y, y_gt,num_classes):\n",
    "    valid_pixels = tf.not_equal(y_gt, 0)\n",
    "    labels = tf.reshape(tf.boolean_mask(y_gt, valid_pixels),[-1,num_classes])\n",
    "    logits = tf.reshape(tf.boolean_mask(y, valid_pixels),[-1])\n",
    "    return labels, logits\n"
   ]
  },
  {
   "cell_type": "code",
   "execution_count": null,
   "metadata": {},
   "outputs": [],
   "source": [
    "def disparity_threshold(gt, max_disp):\n",
    "    return gt * (gt <= max_disp)\n",
    "    "
   ]
  },
  {
   "cell_type": "code",
   "execution_count": null,
   "metadata": {},
   "outputs": [],
   "source": [
    "def create_training_dataset(path, patch_size, max_disp):\n",
    "    %matplotlib\n",
    "    gt_path = sorted(glob.glob(path+'KITTI_dataset/2015/training/disp_noc_0/*.png'))\n",
    "    left_image = sorted(glob.glob(path+'KITTI_dataset/2015/training/image_2/*.png'))\n",
    "    right_image = sorted(glob.glob(path+'KITTI_dataset/2015/training/image_3/*.png'))\n",
    "    gt_patches = []\n",
    "    left_patches = []\n",
    "    right_patches = []\n",
    "    \n",
    "    \n",
    "    for i in range(len(gt_path)):\n",
    "        print('Progress: ','{:.5}'.format( str(i / (len(gt_path)-1) * 100)),'%',end='\\r')\n",
    "        assert(gt_path[i].split('/')[-1] == left_image[i].split('/')[-1])\n",
    "        assert(gt_path[i].split('/')[-1] == right_image[i].split('/')[-1])\n",
    "\n",
    "        gt = cv2.imread(gt_path[i], cv2.IMREAD_GRAYSCALE)\n",
    "        gt = disparity_threshold(gt, max_disp)\n",
    "        left = cv2.imread(left_image[i],cv2.IMREAD_COLOR)\n",
    "        left = cv2.cvtColor(left,cv2.COLOR_BGR2RGB)\n",
    "        right = cv2.imread(right_image[i], cv2.IMREAD_COLOR)\n",
    "        right = cv2.cvtColor(right, cv2.COLOR_BGR2RGB)\n",
    "       # right_padding = np.zeros((patch_size,(patch_size+max_disp ) ,3),dtype = 'uint8') #convert into same format uint8\n",
    "\n",
    "        for b in range(int(left.shape[0]/patch_size)):\n",
    "            for a in range(int(left.shape[1]/patch_size)):\n",
    "                right_padding = np.zeros((patch_size,(patch_size+max_disp ) ,3),dtype = 'uint8') #convert into same format uint8\n",
    "                x = a * patch_size\n",
    "                y = b * patch_size\n",
    "\n",
    "                left_patches.append(left[y:patch_size+y,x:(x+patch_size),:])\n",
    "                gt_patches.append(gt[y:patch_size+y,x: (x+patch_size)])\n",
    "\n",
    "                if (x - max_disp) < 0:\n",
    "                    right_patch = right[y:patch_size+y, 0 : (x  + patch_size),:]\n",
    "                    right_padding[:,(max_disp + patch_size) - right_patch.shape[1]:,:] = right_patch\n",
    "                    right_patches.append(right_padding)\n",
    "                else:\n",
    "                    right_patch = right[y:patch_size+y, (x - max_disp)  : (x   + patch_size),:]\n",
    "                    right_patches.append(right_patch)\n",
    "    \n",
    "\n",
    "    num_seg =5\n",
    "    seg = int(np.array(left_patches).shape[0] / num_seg )\n",
    "    print('\\r')\n",
    "    print('Segmentation Completed')\n",
    "    for i in range(num_seg):\n",
    "        print(\"Saving:\",'{:.5}'.format((i / (num_seg-1))*100),end ='\\r')\n",
    "        x = i * seg\n",
    "        np.save(path+'Data/training_data/left_patches_'+str(i)+'.npy', np.array(left_patches[x:x+seg]))\n",
    "        np.save(path+'Data/training_data/right_patches_'+str(i)+'.npy', np.array(right_patches[x:x+seg]))\n",
    "        np.save(path+'Data/training_data/gt_'+str(i)+'.npy', np.array(gt_patches[x:x+seg]))\n",
    "        "
   ]
  },
  {
   "cell_type": "code",
   "execution_count": null,
   "metadata": {},
   "outputs": [],
   "source": [
    "\n",
    "    "
   ]
  },
  {
   "cell_type": "code",
   "execution_count": 30,
   "metadata": {},
   "outputs": [],
   "source": []
  },
  {
   "cell_type": "code",
   "execution_count": 48,
   "metadata": {},
   "outputs": [],
   "source": []
  },
  {
   "cell_type": "markdown",
   "metadata": {},
   "source": [
    "# Creating Keras Model "
   ]
  },
  {
   "cell_type": "code",
   "execution_count": null,
   "metadata": {},
   "outputs": [],
   "source": [
    "model = keras.Sequential()\n",
    "model.add(keras.layers.Conv2D(filters = 64, kernel_size=(3,3) , strides = (1,1), padding = \"same\",kernel_initializer='glorot_uniform'))\n",
    "model.add(keras.layers.BatchNormalization())\n",
    "model.add(keras.layers.ReLU())\n",
    "model.add(keras.layers.Conv2D(filters = 64, kernel_size = (3,3) , strides = (1,1) , padding = \"same\" , kernel_initializer = 'glorot_uniform'))\n",
    "model.add(keras.layers.BatchNormalization())\n",
    "model.add(keras.layers.ReLU())\n",
    "\n",
    "model.add(keras.layers.MaxPooling2D(pool_size=(2,2), strides =(2,2)))\n",
    "\n",
    "model.add(keras.layers.Conv2D(filters = 64, kernel_size=(3,3) , strides = (1,1), padding = \"same\",kernel_initializer='glorot_uniform'))\n",
    "model.add(keras.layers.BatchNormalization())\n",
    "model.add(keras.layers.ReLU())\n",
    "model.add(keras.layers.Conv2D(filters = 64, kernel_size = (3,3) , strides = (1,1) , padding = \"same\" , kernel_initializer = 'glorot_uniform'))\n",
    "model.add(keras.layers.BatchNormalization())\n",
    "model.add(keras.layers.ReLU())\n",
    "\n",
    "model.add(keras.layers.MaxPooling2D(pool_size=(2,2), strides =(2,2)))\n",
    "\n",
    "model.add(keras.layers.Conv2D(filters = 64, kernel_size=(3,3) , strides = (1,1), padding = \"same\",kernel_initializer='glorot_uniform'))\n",
    "model.add(keras.layers.BatchNormalization())\n",
    "model.add(keras.layers.ReLU())\n",
    "model.add(keras.layers.Conv2D(filters = 64, kernel_size = (3,3) , strides = (1,1) , padding = \"same\" , kernel_initializer = 'glorot_uniform'))\n",
    "model.add(keras.layers.BatchNormalization())\n",
    "model.add(keras.layers.ReLU())\n",
    "\n",
    "model.add(keras.layers.Conv2D(filters = 64, kernel_size=(3,3) , strides = (1,1), padding = \"same\",kernel_initializer='glorot_uniform'))\n",
    "model.add(keras.layers.Conv2DTranspose(filters = 64, kernel_size = (2,2) , strides = (2,2), kernel_initializer = 'glorot_uniform'))\n",
    "model.add(keras.layers.Conv2DTranspose(filters = 64, kernel_size = (2,2) , strides = (2,2), kernel_initializer = 'glorot_uniform'))\n"
   ]
  },
  {
   "cell_type": "code",
   "execution_count": 49,
   "metadata": {},
   "outputs": [
    {
     "name": "stdout",
     "output_type": "stream",
     "text": [
      "Using matplotlib backend: TkAgg\n",
      "Progress:  100.0 %\n",
      "Segmentation Completed\n",
      "Saving: 100.0\r"
     ]
    }
   ],
   "source": [
    "path = '/media/sansii/Software/san_projects/Major_project/'\n",
    "create_training_dataset(path, 28, 128)"
   ]
  },
  {
   "cell_type": "code",
   "execution_count": 50,
   "metadata": {},
   "outputs": [],
   "source": [
    "path = '/media/sansii/Software/san_projects/Major_project/'\n",
    "left = np.load(path+\"Data/training_data/left_patches_0.npy\")\n",
    "right = np.load(path+\"Data/training_data/right_patches_0.npy\")\n",
    "gt = np.load(path+\"Data/training_data/gt_0.npy\")"
   ]
  },
  {
   "cell_type": "code",
   "execution_count": 52,
   "metadata": {},
   "outputs": [
    {
     "name": "stdout",
     "output_type": "stream",
     "text": [
      "Using matplotlib backend: TkAgg\n",
      "(22874, 28, 28, 3)\n"
     ]
    }
   ],
   "source": [
    "%matplotlib\n",
    "a = 47\n",
    "plt.subplot(2,2,1)\n",
    "plt.imshow(left[a])\n",
    "plt.subplot(2,2,2)\n",
    "\n",
    "plt.imshow(right[a])\n",
    "plt.subplot(2,2,3)\n",
    "plt.imshow(gt[a],cmap = 'jet')\n",
    "plt.subplot(2,2,4)\n",
    "plt.show()\n",
    "print(left.shape)"
   ]
  },
  {
   "cell_type": "code",
   "execution_count": null,
   "metadata": {},
   "outputs": [],
   "source": []
  },
  {
   "cell_type": "code",
   "execution_count": null,
   "metadata": {},
   "outputs": [],
   "source": [
    "max_disp = 128\n",
    "W_l = 28\n",
    "W_r = 28+max_disp\n",
    "H = 28\n",
    "\n",
    "input_left =  keras.Input(shape = (W_l, H, 3))\n",
    "input_right = keras.Input(shape = (W_r, H ,3))\n",
    "\n",
    "output_left = model(input_left)\n",
    "output_right= model(input_right)\n",
    "\n",
    "outputs = inner_product(output_left, output_right, max_disp + 1, W_l)\n",
    "\n",
    "\n",
    "siamese_model = keras.models.Model([input_left, input_right], outputs)\n",
    "siamese_model.compile(loss=tf.keras.losses.SparseCategoricalCrossentropy(from_logits=True),\n",
    "                      optimizer=keras.optimizers.Adam(learning_rate=1e-6), metrics=['accuracy'])"
   ]
  },
  {
   "cell_type": "code",
   "execution_count": null,
   "metadata": {},
   "outputs": [],
   "source": [
    "siamese_model.summary()"
   ]
  },
  {
   "cell_type": "code",
   "execution_count": null,
   "metadata": {},
   "outputs": [],
   "source": []
  },
  {
   "cell_type": "code",
   "execution_count": null,
   "metadata": {},
   "outputs": [],
   "source": [
    "from PIL import Image\n",
    "import numpy as np\n",
    "%matplotlib\n",
    "path = '/media/sansii/Software/san_projects/Major_project/KITTI_dataset/training/disp_noc_0'\n",
    "img = cv2.imread(path+'000023_10.png',cv2.IMREAD_GRAYSCALE)\n",
    "img = np.array(img)\n",
    "plt.figure(0)\n",
    "plt.imshow(img, cmap ='jet')\n",
    "plt.show()\n",
    "print(img.shape)"
   ]
  },
  {
   "cell_type": "code",
   "execution_count": null,
   "metadata": {},
   "outputs": [],
   "source": [
    "a = np.array([[[1,3,4]]])\n",
    "print(a.shape)"
   ]
  },
  {
   "cell_type": "code",
   "execution_count": null,
   "metadata": {},
   "outputs": [],
   "source": [
    "path = '/media/sansii/Software/san_projects/Major_project/KITTI_dataset/2015/training/disp_noc_0/'\n",
    "img = cv2.imread(path+'000023_10.png',cv2.IMREAD_GRAYSCALE)\n",
    "right_padding = np.zeros_like(np.array(img))"
   ]
  },
  {
   "cell_type": "code",
   "execution_count": null,
   "metadata": {},
   "outputs": [],
   "source": [
    "right_padding = np.zeros((28,128 ,3))\n"
   ]
  },
  {
   "cell_type": "code",
   "execution_count": 46,
   "metadata": {},
   "outputs": [],
   "source": [
    "def load_groudtruth_data(path):\n",
    "    gt_path = sorted(glob.glob(path+'KITTI_dataset/2015/training/disp_noc_0/*.png'))\n",
    "    for i in range(len(gt_path)):\n",
    "        gt = np.array(cv2.imread(gt_path[i], cv2.IMREAD_GRAYSCALE))\n",
    "        if gt.max() > 128:\n",
    "            print(\"                    \",end = '\\r')\n",
    "            gt = disparity_threshold(gt, 128)\n",
    "            print(\"Max:\", gt.max(),end = '\\r')\n",
    "            cv2.imshow('gt',gt)\n",
    "            cv2.waitKey(0)\n",
    "            cv2.destroyAllWindows()\n",
    "            \n",
    "            \n",
    "        "
   ]
  },
  {
   "cell_type": "code",
   "execution_count": 47,
   "metadata": {},
   "outputs": [
    {
     "name": "stdout",
     "output_type": "stream",
     "text": [
      "Max: 121            \r"
     ]
    }
   ],
   "source": [
    "path = '/media/sansii/Software/san_projects/Major_project/'\n",
    "load_groudtruth_data(path)"
   ]
  },
  {
   "cell_type": "code",
   "execution_count": null,
   "metadata": {},
   "outputs": [],
   "source": []
  }
 ],
 "metadata": {
  "kernelspec": {
   "display_name": "Python 3",
   "language": "python",
   "name": "python3"
  },
  "language_info": {
   "codemirror_mode": {
    "name": "ipython",
    "version": 3
   },
   "file_extension": ".py",
   "mimetype": "text/x-python",
   "name": "python",
   "nbconvert_exporter": "python",
   "pygments_lexer": "ipython3",
   "version": "3.6.8"
  }
 },
 "nbformat": 4,
 "nbformat_minor": 2
}
