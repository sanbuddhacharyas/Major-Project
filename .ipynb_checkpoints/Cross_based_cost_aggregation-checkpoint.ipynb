{
 "cells": [
  {
   "cell_type": "code",
   "execution_count": 1,
   "metadata": {},
   "outputs": [],
   "source": [
    "import tensorflow as tf\n",
    "tf.test.gpu_device_name()\n",
    "from scipy import ndimage\n",
    "import numpy as np"
   ]
  },
  {
   "cell_type": "code",
   "execution_count": 21,
   "metadata": {},
   "outputs": [],
   "source": [
    "L = 17\n",
    "T = 20\n",
    "\n",
    "\n",
    "class Direction:\n",
    "    def __init__(self, direction=(0, 0), name='invalid'):\n",
    "        \"\"\"\n",
    "        represent a cardinal direction in image coordinates (top left = (0, 0) and bottom right = (1, 1)).\n",
    "        :param direction: (row, column) for cardinal direction.\n",
    "        :param name: common name of said direction.\n",
    "        \"\"\"\n",
    "        self.direction = direction\n",
    "        self.name = name\n",
    "        \n",
    "N = Direction((-1, 0), name=\"Top\")\n",
    "S = Direction(( 1, 0), name=\"Down\")\n",
    "E = Direction(( 0, 1), name=\"Right\")\n",
    "W = Direction(( 0,-1), name=\"Left\")\n",
    "\n",
    "\n",
    "class CBCA:\n",
    "    def __init__(self, max_length, limit):\n",
    "        self.max_length = max_length\n",
    "        self.limit = limit\n",
    "        self.paths  = [W, E, N, S]\n",
    "        \n",
    "    \n",
    "#     def find_similarity(self,p1, p2):\n",
    "#         return 1 if (np.abs(self.image[p1] - self.image[p2]))<= self.limit not 0\n",
    "\n",
    "    \n",
    "    def find_arms(self):\n",
    "        self.arm_left   = np.zeros(shape = self.image.shape, dtype = 'int32')\n",
    "        self.arm_right  = np.zeros(shape = self.image.shape, dtype = 'int32')\n",
    "        self.arm_top    = np.zeros(shape = self.image.shape, dtype = 'int32')\n",
    "        self.arm_bottom = np.zeros(shape = self.image.shape, dtype = 'int32')\n",
    "#         mask_new        = np.ones(shape = self.image.shape, dtype = 'int32')\n",
    "#         out_prev        = np.zeros (shape = self.image.shape, dtype = 'int32')\n",
    "        \n",
    "       \n",
    "        for path in self.paths:\n",
    "            mask_new        = np.ones(shape = self.image.shape, dtype = 'int32')\n",
    "            out_prev        = np.zeros (shape = self.image.shape, dtype = 'int32')\n",
    "\n",
    "            if path.name == E.name:\n",
    "                pad_image = self.image.copy()\n",
    "                pad_image = np.pad(pad_image, pad_width =((0,0),(0,self.max_length)), constant_values=1000)\n",
    "                \n",
    "                for i in range(1, self.max_length+1): #for image width index\n",
    "                    mask = np.abs(self.image[:,:] - pad_image[:,i:self.width+i]) <= self.limit\n",
    "                    #print(mask)\n",
    "                    mask_new = np.multiply(mask, mask_new)\n",
    "                    #print(mask_new)\n",
    "                    out  = i * mask_new\n",
    "                    out  = np.maximum(out, out_prev)\n",
    "                    out_prev = out\n",
    "                self.arm_right = out\n",
    "                \n",
    "            if path.name == W.name:\n",
    "                pad_image = self.image.copy()\n",
    "                pad_image = np.pad(pad_image, pad_width =((0,0),(self.max_length,0)), constant_values=1000)\n",
    "                pad_image_width = pad_image.shape[1]\n",
    "                for i in range(1, self.max_length+1): #for image width index\n",
    "                    mask = np.abs(self.image[:,:] - pad_image[:,pad_image_width-self.width-i:pad_image_width-i]) <= self.limit\n",
    "                    #print(mask)\n",
    "                    mask_new = np.multiply(mask, mask_new)\n",
    "                    #print(mask_new)\n",
    "                    out  = i * mask_new\n",
    "                    out  = np.maximum(out, out_prev)\n",
    "                    out_prev = out\n",
    "                self.arm_left = out\n",
    "                \n",
    "                \n",
    "            if path.name == S.name:\n",
    "                pad_image = self.image.copy()\n",
    "                pad_image = np.pad(pad_image, pad_width =((0, self.max_length),(0,0)), constant_values=1000)\n",
    "                pad_image_width = pad_image.shape[1]\n",
    "                for i in range(1, self.max_length+1): #for image width index\n",
    "                    mask = np.abs(self.image[:,:] - pad_image[i:self.height+i,:]) <= self.limit\n",
    "                    #print(mask)\n",
    "                    mask_new = np.multiply(mask, mask_new)\n",
    "                    #print(mask_new)\n",
    "                    out  = i * mask_new\n",
    "                    out  = np.maximum(out, out_prev)\n",
    "                    out_prev = out\n",
    "                self.arm_bottom = out\n",
    "                \n",
    "                \n",
    "            if path.name == N.name:\n",
    "                pad_image = self.image.copy()\n",
    "                pad_image = np.pad(pad_image, pad_width =((self.max_length, 0),(0,0)), constant_values=1000)\n",
    "                pad_image_height = pad_image.shape[0]\n",
    "                for i in range(1, self.max_length+1): #for image width index\n",
    "                    mask = np.abs(self.image[:,:] - pad_image[(pad_image_height-self.height-i):(pad_image_height-i) ,:]) <= self.limit\n",
    "                    mask_new = np.multiply(mask, mask_new)\n",
    "                    out  = i * mask_new\n",
    "                    out  = np.maximum(out, out_prev)\n",
    "                    out_prev = out\n",
    "                self.arm_top = out\n",
    "                \n",
    "                  \n",
    "        \n",
    "    def find_cbca(self,image):\n",
    "        self.image = image\n",
    "        self.width = image.shape[1]\n",
    "        self.height= image.shape[0]\n"
   ]
  },
  {
   "cell_type": "code",
   "execution_count": 23,
   "metadata": {},
   "outputs": [
    {
     "name": "stdout",
     "output_type": "stream",
     "text": [
      "Right [[2 1 0 0 0 2 1 0]\n",
      " [1 0 0 3 2 1 0 0]\n",
      " [0 0 0 2 1 0 1 0]\n",
      " [0 4 3 2 1 0 1 0]\n",
      " [7 6 5 4 3 2 1 0]]\n",
      "Left [[0 1 2 0 0 0 1 2]\n",
      " [0 1 0 0 1 2 3 0]\n",
      " [0 0 0 0 1 2 0 1]\n",
      " [0 0 1 2 3 4 0 1]\n",
      " [0 1 2 3 4 5 6 7]]\n",
      "Bottom [[3 1 1 0 0 0 0 2]\n",
      " [1 0 0 0 0 0 0 1]\n",
      " [0 0 0 0 0 0 0 0]\n",
      " [0 0 0 0 0 0 0 0]\n",
      " [0 0 0 0 0 0 0 0]]\n",
      "Right [[3 1 1 0 0 0 0 2]\n",
      " [1 0 0 0 0 0 0 1]\n",
      " [0 0 0 0 0 0 0 0]\n",
      " [0 0 0 0 0 0 0 0]\n",
      " [0 0 0 0 0 0 0 0]]\n"
     ]
    }
   ],
   "source": [
    "\n",
    "if __name__ == '__main__':\n",
    "    img = np.array([[20, 21, 20, 100, 200, 20, 20, 20],\n",
    "                    [21, 22, 0, 50, 50, 50, 51, 0],\n",
    "                    [21, 0, 50, 91, 100,100, 0, 0],\n",
    "                    [0, 200, 200, 201, 201,200,100,100],\n",
    "                    [50,50,50,50,50,50,50,50]])\n",
    "\n",
    "    cost_agg =CBCA(8, T)\n",
    "    cost_agg.find_cbca(img)\n",
    "    cost_agg.find_arms()\n",
    "    print(\"Right\", cost_agg.arm_right)\n",
    "    print(\"Left\", cost_agg.arm_left)\n",
    "    print(\"Bottom\",cost_agg.arm_bottom)\n",
    "    print(\"Right\",cost_agg.arm_top)"
   ]
  },
  {
   "cell_type": "code",
   "execution_count": null,
   "metadata": {},
   "outputs": [],
   "source": [
    "c[a]"
   ]
  },
  {
   "cell_type": "code",
   "execution_count": null,
   "metadata": {},
   "outputs": [],
   "source": [
    "a=np.array([1,3,4,5])\n",
    "c = list(map(int, a > 3)) \n",
    "print(c)"
   ]
  },
  {
   "cell_type": "code",
   "execution_count": 20,
   "metadata": {},
   "outputs": [
    {
     "data": {
      "text/plain": [
       "array([[1000, 1000, 1000, 1000, 1000, 1000, 1000, 1000],\n",
       "       [1000, 1000, 1000, 1000, 1000, 1000, 1000, 1000],\n",
       "       [1000, 1000, 1000, 1000, 1000, 1000, 1000, 1000],\n",
       "       [1000, 1000, 1000, 1000, 1000, 1000, 1000, 1000],\n",
       "       [  20,   21,   20,  100,  200,   20,   20,   20],\n",
       "       [  21,   22,    0,   50,   50,   50,   51,    0],\n",
       "       [  21,    0,   50,   91,  100,  100,    0,    0],\n",
       "       [   0,  200,  200,  201,  201,  200,  100,  100],\n",
       "       [  50,   50,   50,   50,   50,   50,   50,   50]])"
      ]
     },
     "execution_count": 20,
     "metadata": {},
     "output_type": "execute_result"
    }
   ],
   "source": [
    "np.pad(img, pad_width =((4,0),(0,0)), constant_values=1000)"
   ]
  },
  {
   "cell_type": "code",
   "execution_count": null,
   "metadata": {},
   "outputs": [],
   "source": []
  }
 ],
 "metadata": {
  "kernelspec": {
   "display_name": "Python 3",
   "language": "python",
   "name": "python3"
  },
  "language_info": {
   "codemirror_mode": {
    "name": "ipython",
    "version": 3
   },
   "file_extension": ".py",
   "mimetype": "text/x-python",
   "name": "python",
   "nbconvert_exporter": "python",
   "pygments_lexer": "ipython3",
   "version": "3.6.9"
  }
 },
 "nbformat": 4,
 "nbformat_minor": 2
}
