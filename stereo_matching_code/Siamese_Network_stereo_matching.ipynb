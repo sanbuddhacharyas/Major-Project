{
 "cells": [
  {
   "cell_type": "code",
   "execution_count": 1,
   "metadata": {},
   "outputs": [
    {
     "name": "stdout",
     "output_type": "stream",
     "text": [
      "Using matplotlib backend: TkAgg\n"
     ]
    }
   ],
   "source": [
    "import tensorflow as tf\n",
    "import cv2\n",
    "import tensorflow.keras as keras\n",
    "import matplotlib.pyplot as plt\n",
    "import numpy as np\n",
    "import glob\n",
    "%matplotlib"
   ]
  },
  {
   "cell_type": "code",
   "execution_count": null,
   "metadata": {},
   "outputs": [],
   "source": [
    "    tf.__version__"
   ]
  },
  {
   "cell_type": "markdown",
   "metadata": {},
   "source": [
    "# Data Processing for training\n",
    "\n"
   ]
  },
  {
   "cell_type": "code",
   "execution_count": null,
   "metadata": {},
   "outputs": [],
   "source": []
  },
  {
   "cell_type": "code",
   "execution_count": null,
   "metadata": {},
   "outputs": [],
   "source": [
    "def compute_loss(y_truth, y_pre):\n",
    "    num_classes = 129\n",
    "#     valid_pixels = tf.keras.backend.not_equal(y_truth, 0)\n",
    "#     labels = tf.reshape(tf.boolean_mask(y_truth, valid_pixels),[-1,num_classes])\n",
    "#     logits = tf.reshape(tf.boolean_mask(y_pre, valid_pixels),[-1])\n",
    "    loss = tf.keras.losses.sparse_categorical_crossentropy(y_truth, y_pre)\n",
    "    #loss = tf.nn.sparse_softmax_cross_entropy_with_logits(labels=y_truth,logits=y_pre, name=None)\n",
    "    #loss = tf.keras.backend.mean(loss)\n",
    "    #loss = tf.reduce_mean(loss)      \n",
    "   # print(tf.keras.backend.get_value(loss))\n",
    "    return loss\n"
   ]
  },
  {
   "cell_type": "code",
   "execution_count": null,
   "metadata": {},
   "outputs": [],
   "source": [
    "def disparity_threshold(gt, max_disp):\n",
    "    return gt * (gt <= max_disp)\n",
    "    "
   ]
  },
  {
   "cell_type": "code",
   "execution_count": null,
   "metadata": {},
   "outputs": [],
   "source": [
    "def create_training_dataset(path, patch_size, max_disp):\n",
    "    %matplotlib\n",
    "    gt_path = sorted(glob.glob(path+'KITTI_dataset/2015/training/disp_noc_0/*.png'))\n",
    "    left_image = sorted(glob.glob(path+'KITTI_dataset/2015/training/image_2/*.png'))\n",
    "    right_image = sorted(glob.glob(path+'KITTI_dataset/2015/training/image_3/*.png'))\n",
    "    gt_patches = []\n",
    "    left_patches = []\n",
    "    right_patches = []\n",
    "    num_classes = max_disp + 1\n",
    "    \n",
    "    for i in range(len(gt_path)):\n",
    "        print('Progress: ','{:.5}'.format( str(i / (len(gt_path)-1) * 100)),'%',end='\\r')\n",
    "        assert(gt_path[i].split('/')[-1] == left_image[i].split('/')[-1])\n",
    "        assert(gt_path[i].split('/')[-1] == right_image[i].split('/')[-1])\n",
    "\n",
    "        gt = cv2.imread(gt_path[i], cv2.IMREAD_GRAYSCALE)\n",
    "        gt = disparity_threshold(gt, max_disp)\n",
    "        left = cv2.imread(left_image[i],cv2.IMREAD_COLOR)\n",
    "        left = cv2.cvtColor(left,cv2.COLOR_BGR2RGB)\n",
    "        right = cv2.imread(right_image[i], cv2.IMREAD_COLOR)\n",
    "        right = cv2.cvtColor(right, cv2.COLOR_BGR2RGB)\n",
    "       # right_padding = np.zeros((patch_size,(patch_size+max_disp ) ,3),dtype = 'uint8') #convert into same format uint8\n",
    "\n",
    "        for b in range(int(left.shape[0]/patch_size)):\n",
    "            for a in range(int(left.shape[1]/patch_size)):\n",
    "                right_padding = np.zeros((patch_size,(patch_size+max_disp ) ,3),dtype = 'uint8') #convert into same format uint8\n",
    "                x = a * patch_size\n",
    "                y = b * patch_size\n",
    "\n",
    "                left_patches.append(left[y:patch_size+y,x:(x+patch_size),:])\n",
    "                gt_patches.append(gt[y:patch_size+y,x: (x+patch_size)])\n",
    "\n",
    "                if (x - max_disp) < 0:\n",
    "                    right_patch = right[y:patch_size+y, 0 : (x  + patch_size),:]\n",
    "                    right_padding[:,(max_disp + patch_size) - right_patch.shape[1]:,:] = right_patch\n",
    "                    right_patches.append(right_padding)\n",
    "                else:\n",
    "                    right_patch = right[y:patch_size+y, (x - max_disp)  : (x   + patch_size),:]\n",
    "                    right_patches.append(right_patch)\n",
    "    \n",
    "\n",
    "    num_seg =5\n",
    "    seg = int(np.array(left_patches).shape[0] / num_seg )\n",
    "    print('\\r')\n",
    "    print('Segmentation Completed')\n",
    "    for i in range(num_seg):\n",
    "        print(\"Saving:\",'{:.5}'.format((i / (num_seg-1))*100),end ='\\r')\n",
    "        x = i * seg\n",
    "        np.save(path+'Data/training_data/left_patches_'+str(i)+'.npy', np.array(left_patches[x:x+seg]))\n",
    "        np.save(path+'Data/training_data/right_patches_'+str(i)+'.npy', np.array(right_patches[x:x+seg]))\n",
    "        np.save(path+'Data/training_data/gt_'+str(i)+'.npy', np.array(np.reshape(gt_patches[x:x+seg],[-1,num_classes])))\n",
    "        "
   ]
  },
  {
   "cell_type": "code",
   "execution_count": null,
   "metadata": {},
   "outputs": [],
   "source": [
    "path = '/media/sansii/Software/san_projects/Major_project/'\n",
    "create_training_dataset(path, 28, 128)\n",
    "    "
   ]
  },
  {
   "cell_type": "code",
   "execution_count": null,
   "metadata": {},
   "outputs": [],
   "source": []
  },
  {
   "cell_type": "code",
   "execution_count": null,
   "metadata": {},
   "outputs": [],
   "source": []
  },
  {
   "cell_type": "markdown",
   "metadata": {},
   "source": [
    "# Creating Keras Model "
   ]
  },
  {
   "cell_type": "code",
   "execution_count": null,
   "metadata": {},
   "outputs": [],
   "source": [
    "def inner_product(left, right, disp, width):\n",
    "    \n",
    "    disp_vol = []\n",
    "  \n",
    "    for i in range(disp):\n",
    "        output = tf.reduce_sum(tf.multiply(left, right[:,:,disp-i-1:disp -1 -i + width,: ]),axis =3)\n",
    "        disp_vol.append(output)\n",
    "        logits = tf.transpose(tf.stack(disp_vol),[1,2,3,0])\n",
    "        logits = tf.nn.softmax(logits)\n",
    "    return logits"
   ]
  },
  {
   "cell_type": "code",
   "execution_count": null,
   "metadata": {},
   "outputs": [],
   "source": [
    "model = keras.Sequential()\n",
    "model.add(keras.layers.Conv2D(filters = 64, kernel_size=(3,3) , strides = (1,1), padding = \"same\",kernel_initializer='glorot_uniform'))\n",
    "model.add(keras.layers.BatchNormalization())\n",
    "model.add(keras.layers.ReLU())\n",
    "model.add(keras.layers.Conv2D(filters = 64, kernel_size = (3,3) , strides = (1,1) , padding = \"same\" , kernel_initializer = 'glorot_uniform'))\n",
    "model.add(keras.layers.BatchNormalization())\n",
    "model.add(keras.layers.ReLU())\n",
    "\n",
    "model.add(keras.layers.MaxPooling2D(pool_size=(2,2), strides =(2,2)))\n",
    "\n",
    "model.add(keras.layers.Conv2D(filters = 64, kernel_size=(3,3) , strides = (1,1), padding = \"same\",kernel_initializer='glorot_uniform'))\n",
    "model.add(keras.layers.BatchNormalization())\n",
    "model.add(keras.layers.ReLU())\n",
    "model.add(keras.layers.Conv2D(filters = 64, kernel_size = (3,3) , strides = (1,1) , padding = \"same\" , kernel_initializer = 'glorot_uniform'))\n",
    "model.add(keras.layers.BatchNormalization())\n",
    "model.add(keras.layers.ReLU())\n",
    "\n",
    "model.add(keras.layers.MaxPooling2D(pool_size=(2,2), strides =(2,2)))\n",
    "\n",
    "model.add(keras.layers.Conv2D(filters = 64, kernel_size=(3,3) , strides = (1,1), padding = \"same\",kernel_initializer='glorot_uniform'))\n",
    "model.add(keras.layers.BatchNormalization())\n",
    "model.add(keras.layers.ReLU())\n",
    "model.add(keras.layers.Conv2D(filters = 64, kernel_size = (3,3) , strides = (1,1) , padding = \"same\" , kernel_initializer = 'glorot_uniform'))\n",
    "model.add(keras.layers.BatchNormalization())\n",
    "model.add(keras.layers.ReLU())\n",
    "\n",
    "model.add(keras.layers.Conv2D(filters = 64, kernel_size=(3,3) , strides = (1,1), padding = \"same\",kernel_initializer='glorot_uniform'))\n",
    "model.add(keras.layers.Conv2DTranspose(filters = 64, kernel_size = (2,2) , strides = (2,2), kernel_initializer = 'glorot_uniform'))\n",
    "model.add(keras.layers.Conv2DTranspose(filters = 64, kernel_size = (2,2) , strides = (2,2), kernel_initializer = 'glorot_uniform'))\n"
   ]
  },
  {
   "cell_type": "code",
   "execution_count": null,
   "metadata": {},
   "outputs": [],
   "source": [
    "\n",
    "max_disp = 128\n",
    "W_l = 28\n",
    "W_r = 28+max_disp\n",
    "H = 28\n",
    "num_classes = max_disp + 1\n",
    "input_left =  keras.Input(shape = (H, W_l, 3))\n",
    "input_right = keras.Input(shape = (H, W_r ,3))\n",
    "y_truth = keras.Input(shape = (H,H))\n",
    "output_left = model(input_left)\n",
    "output_right= model(input_right)\n",
    "\n",
    "outputs = inner_product(output_left, output_right, max_disp + 1, W_l)\n",
    "\n",
    "siamese_model = keras.models.Model([input_left, input_right], outputs)\n",
    "# loss = compute_loss(y_truth, outputs,num_classes = 129)\n",
    "siamese_model.compile(loss=compute_loss,\n",
    "                      optimizer=keras.optimizers.Adam(learning_rate=1e-6), metrics=['accuracy'])"
   ]
  },
  {
   "cell_type": "code",
   "execution_count": null,
   "metadata": {},
   "outputs": [],
   "source": [
    "siamese_model.summary()"
   ]
  },
  {
   "cell_type": "code",
   "execution_count": null,
   "metadata": {},
   "outputs": [],
   "source": [
    "checkpoint_path = \"/content/drive/My Drive/Colab Notebooks/keras_checkpoint/cp.cpkt\"\n",
    "logdir = \"/content/drive/My Drive/Colab Notebooks/Tensorboard_logdir\"\n",
    "\n",
    "\n",
    "cp_callback = keras.callbacks.ModelCheckpoint(checkpoint_path, save_weights_only=True,verbose=1)\n",
    "cp_logdir = keras.callbacks.TensorBoard(log_dir = logdir,histogram_freq = 1000)"
   ]
  },
  {
   "cell_type": "code",
   "execution_count": null,
   "metadata": {},
   "outputs": [],
   "source": [
    "path = '/media/sansii/Software/san_projects/Major_project/'\n",
    "\n",
    "checkpoint_path = path + \"Siamese_model_checkpoint/cp.cpkt\"\n",
    "logdir = path+\"Tensorboard_logdir\"\n",
    "\n",
    "\n",
    "cp_callback = tf.keras.callbacks.ModelCheckpoint(checkpoint_path, save_weights_only=True,verbose=1)\n",
    "cp_logdir = tf.keras.callbacks.TensorBoard(log_dir = logdir,histogram_freq = 1000)\n",
    "\n",
    "left = np.load(path+\"Data/training_data/left_patches_0.npy\")\n",
    "right = np.load(path+\"Data/training_data/right_patches_0.npy\")\n",
    "gt = np.load(path+\"Data/training_data/gt_0.npy\")\n",
    "\n",
    "left_val = np.load(path+\"Data/training_data/left_patches_4.npy\")\n",
    "right_val = np.load(path+\"Data/training_data/right_patches_4.npy\")\n",
    "gt_val = np.load(path+\"Data/training_data/gt_0.npy\")\n",
    "\n",
    "siamese_model.fit(x=[left, right],y =gt, batch_size=4, validation_data=([left_val,right_val] , gt_val),callbacks=[cp_callback, cp_logdir] )"
   ]
  },
  {
   "cell_type": "code",
   "execution_count": 3,
   "metadata": {},
   "outputs": [],
   "source": [
    "path = '/media/sansii/Software/san_projects/Major_project/'\n",
    "left = np.load(path+\"Data/training_data/left_patches_0.npy\")\n",
    "right = np.load(path+\"Data/training_data/right_patches_0.npy\")\n",
    "gt = np.load(path+\"Data/training_data/gt_0.npy\")"
   ]
  },
  {
   "cell_type": "code",
   "execution_count": 8,
   "metadata": {},
   "outputs": [
    {
     "data": {
      "text/plain": [
       "<matplotlib.image.AxesImage at 0x7f13e9f7e278>"
      ]
     },
     "execution_count": 8,
     "metadata": {},
     "output_type": "execute_result"
    },
    {
     "data": {
      "image/png": "[encoded data removed]",
      "text/plain": [
       "<matplotlib.figure.Figure at 0x7f14006a8a20>"
      ]
     },
     "metadata": {
      "needs_background": "light"
     },
     "output_type": "display_data"
    }
   ],
   "source": [
    "plt.subplot(2,2,1)\n",
    "plt.imshow(left[25])\n",
    "plt.subplot(2,2,2)\n",
    "plt.imshow(right[25])\n",
    "plt.subplot(2,2,3)\n",
    "plt.imshow(gt[25],cmap='jet')"
   ]
  },
  {
   "cell_type": "code",
   "execution_count": null,
   "metadata": {},
   "outputs": [],
   "source": [
    "path = '/media/sansii/Software/san_projects/Major_project/'\n",
    "left = np.load(path+\"Data/training_data/left_patches_0.npy\")\n",
    "right = np.load(path+\"Data/training_data/right_patches_0.npy\")\n",
    "gt = np.load(path+\"Data/training_data/gt_0.npy\")\n",
    "\n",
    "siames"
   ]
  },
  {
   "cell_type": "code",
   "execution_count": null,
   "metadata": {},
   "outputs": [],
   "source": []
  },
  {
   "cell_type": "code",
   "execution_count": 5,
   "metadata": {},
   "outputs": [
    {
     "name": "stdout",
     "output_type": "stream",
     "text": [
      "Using matplotlib backend: TkAgg\n"
     ]
    },
    {
     "ename": "TypeError",
     "evalue": "Image data cannot be converted to float",
     "output_type": "error",
     "traceback": [
      "\u001b[0;31m---------------------------------------------------------------------------\u001b[0m",
      "\u001b[0;31mTypeError\u001b[0m                                 Traceback (most recent call last)",
      "\u001b[0;32m<ipython-input-5-5b9c356cf4f4>\u001b[0m in \u001b[0;36m<module>\u001b[0;34m\u001b[0m\n\u001b[1;32m      6\u001b[0m \u001b[0mimg\u001b[0m \u001b[0;34m=\u001b[0m \u001b[0mnp\u001b[0m\u001b[0;34m.\u001b[0m\u001b[0marray\u001b[0m\u001b[0;34m(\u001b[0m\u001b[0mimg\u001b[0m\u001b[0;34m)\u001b[0m\u001b[0;34m\u001b[0m\u001b[0;34m\u001b[0m\u001b[0m\n\u001b[1;32m      7\u001b[0m \u001b[0mplt\u001b[0m\u001b[0;34m.\u001b[0m\u001b[0mfigure\u001b[0m\u001b[0;34m(\u001b[0m\u001b[0;36m0\u001b[0m\u001b[0;34m)\u001b[0m\u001b[0;34m\u001b[0m\u001b[0;34m\u001b[0m\u001b[0m\n\u001b[0;32m----> 8\u001b[0;31m \u001b[0mplt\u001b[0m\u001b[0;34m.\u001b[0m\u001b[0mimshow\u001b[0m\u001b[0;34m(\u001b[0m\u001b[0mimg\u001b[0m\u001b[0;34m,\u001b[0m \u001b[0mcmap\u001b[0m \u001b[0;34m=\u001b[0m\u001b[0;34m'jet'\u001b[0m\u001b[0;34m)\u001b[0m\u001b[0;34m\u001b[0m\u001b[0;34m\u001b[0m\u001b[0m\n\u001b[0m\u001b[1;32m      9\u001b[0m \u001b[0mplt\u001b[0m\u001b[0;34m.\u001b[0m\u001b[0mshow\u001b[0m\u001b[0;34m(\u001b[0m\u001b[0;34m)\u001b[0m\u001b[0;34m\u001b[0m\u001b[0;34m\u001b[0m\u001b[0m\n\u001b[1;32m     10\u001b[0m \u001b[0mprint\u001b[0m\u001b[0;34m(\u001b[0m\u001b[0mimg\u001b[0m\u001b[0;34m.\u001b[0m\u001b[0mshape\u001b[0m\u001b[0;34m)\u001b[0m\u001b[0;34m\u001b[0m\u001b[0;34m\u001b[0m\u001b[0m\n",
      "\u001b[0;32m/usr/lib/python3/dist-packages/matplotlib/pyplot.py\u001b[0m in \u001b[0;36mimshow\u001b[0;34m(X, cmap, norm, aspect, interpolation, alpha, vmin, vmax, origin, extent, shape, filternorm, filterrad, imlim, resample, url, hold, data, **kwargs)\u001b[0m\n\u001b[1;32m   3099\u001b[0m                         \u001b[0mfilternorm\u001b[0m\u001b[0;34m=\u001b[0m\u001b[0mfilternorm\u001b[0m\u001b[0;34m,\u001b[0m \u001b[0mfilterrad\u001b[0m\u001b[0;34m=\u001b[0m\u001b[0mfilterrad\u001b[0m\u001b[0;34m,\u001b[0m\u001b[0;34m\u001b[0m\u001b[0;34m\u001b[0m\u001b[0m\n\u001b[1;32m   3100\u001b[0m                         \u001b[0mimlim\u001b[0m\u001b[0;34m=\u001b[0m\u001b[0mimlim\u001b[0m\u001b[0;34m,\u001b[0m \u001b[0mresample\u001b[0m\u001b[0;34m=\u001b[0m\u001b[0mresample\u001b[0m\u001b[0;34m,\u001b[0m \u001b[0murl\u001b[0m\u001b[0;34m=\u001b[0m\u001b[0murl\u001b[0m\u001b[0;34m,\u001b[0m \u001b[0mdata\u001b[0m\u001b[0;34m=\u001b[0m\u001b[0mdata\u001b[0m\u001b[0;34m,\u001b[0m\u001b[0;34m\u001b[0m\u001b[0;34m\u001b[0m\u001b[0m\n\u001b[0;32m-> 3101\u001b[0;31m                         **kwargs)\n\u001b[0m\u001b[1;32m   3102\u001b[0m     \u001b[0;32mfinally\u001b[0m\u001b[0;34m:\u001b[0m\u001b[0;34m\u001b[0m\u001b[0;34m\u001b[0m\u001b[0m\n\u001b[1;32m   3103\u001b[0m         \u001b[0max\u001b[0m\u001b[0;34m.\u001b[0m\u001b[0m_hold\u001b[0m \u001b[0;34m=\u001b[0m \u001b[0mwashold\u001b[0m\u001b[0;34m\u001b[0m\u001b[0;34m\u001b[0m\u001b[0m\n",
      "\u001b[0;32m/usr/lib/python3/dist-packages/matplotlib/__init__.py\u001b[0m in \u001b[0;36minner\u001b[0;34m(ax, *args, **kwargs)\u001b[0m\n\u001b[1;32m   1716\u001b[0m                     warnings.warn(msg % (label_namer, func.__name__),\n\u001b[1;32m   1717\u001b[0m                                   RuntimeWarning, stacklevel=2)\n\u001b[0;32m-> 1718\u001b[0;31m             \u001b[0;32mreturn\u001b[0m \u001b[0mfunc\u001b[0m\u001b[0;34m(\u001b[0m\u001b[0max\u001b[0m\u001b[0;34m,\u001b[0m \u001b[0;34m*\u001b[0m\u001b[0margs\u001b[0m\u001b[0;34m,\u001b[0m \u001b[0;34m**\u001b[0m\u001b[0mkwargs\u001b[0m\u001b[0;34m)\u001b[0m\u001b[0;34m\u001b[0m\u001b[0;34m\u001b[0m\u001b[0m\n\u001b[0m\u001b[1;32m   1719\u001b[0m         \u001b[0mpre_doc\u001b[0m \u001b[0;34m=\u001b[0m \u001b[0minner\u001b[0m\u001b[0;34m.\u001b[0m\u001b[0m__doc__\u001b[0m\u001b[0;34m\u001b[0m\u001b[0;34m\u001b[0m\u001b[0m\n\u001b[1;32m   1720\u001b[0m         \u001b[0;32mif\u001b[0m \u001b[0mpre_doc\u001b[0m \u001b[0;32mis\u001b[0m \u001b[0;32mNone\u001b[0m\u001b[0;34m:\u001b[0m\u001b[0;34m\u001b[0m\u001b[0;34m\u001b[0m\u001b[0m\n",
      "\u001b[0;32m/usr/lib/python3/dist-packages/matplotlib/axes/_axes.py\u001b[0m in \u001b[0;36mimshow\u001b[0;34m(self, X, cmap, norm, aspect, interpolation, alpha, vmin, vmax, origin, extent, shape, filternorm, filterrad, imlim, resample, url, **kwargs)\u001b[0m\n\u001b[1;32m   5125\u001b[0m                               resample=resample, **kwargs)\n\u001b[1;32m   5126\u001b[0m \u001b[0;34m\u001b[0m\u001b[0m\n\u001b[0;32m-> 5127\u001b[0;31m         \u001b[0mim\u001b[0m\u001b[0;34m.\u001b[0m\u001b[0mset_data\u001b[0m\u001b[0;34m(\u001b[0m\u001b[0mX\u001b[0m\u001b[0;34m)\u001b[0m\u001b[0;34m\u001b[0m\u001b[0;34m\u001b[0m\u001b[0m\n\u001b[0m\u001b[1;32m   5128\u001b[0m         \u001b[0mim\u001b[0m\u001b[0;34m.\u001b[0m\u001b[0mset_alpha\u001b[0m\u001b[0;34m(\u001b[0m\u001b[0malpha\u001b[0m\u001b[0;34m)\u001b[0m\u001b[0;34m\u001b[0m\u001b[0;34m\u001b[0m\u001b[0m\n\u001b[1;32m   5129\u001b[0m         \u001b[0;32mif\u001b[0m \u001b[0mim\u001b[0m\u001b[0;34m.\u001b[0m\u001b[0mget_clip_path\u001b[0m\u001b[0;34m(\u001b[0m\u001b[0;34m)\u001b[0m \u001b[0;32mis\u001b[0m \u001b[0;32mNone\u001b[0m\u001b[0;34m:\u001b[0m\u001b[0;34m\u001b[0m\u001b[0;34m\u001b[0m\u001b[0m\n",
      "\u001b[0;32m/usr/lib/python3/dist-packages/matplotlib/image.py\u001b[0m in \u001b[0;36mset_data\u001b[0;34m(self, A)\u001b[0m\n\u001b[1;32m    605\u001b[0m         if (self._A.dtype != np.uint8 and\n\u001b[1;32m    606\u001b[0m                 not np.can_cast(self._A.dtype, float, \"same_kind\")):\n\u001b[0;32m--> 607\u001b[0;31m             \u001b[0;32mraise\u001b[0m \u001b[0mTypeError\u001b[0m\u001b[0;34m(\u001b[0m\u001b[0;34m\"Image data cannot be converted to float\"\u001b[0m\u001b[0;34m)\u001b[0m\u001b[0;34m\u001b[0m\u001b[0;34m\u001b[0m\u001b[0m\n\u001b[0m\u001b[1;32m    608\u001b[0m \u001b[0;34m\u001b[0m\u001b[0m\n\u001b[1;32m    609\u001b[0m         if not (self._A.ndim == 2\n",
      "\u001b[0;31mTypeError\u001b[0m: Image data cannot be converted to float"
     ]
    }
   ],
   "source": [
    "from PIL import Image\n",
    "import numpy as np\n",
    "%matplotlib\n",
    "path = '/media/sansii/Software/san_projects/Major_project/KITTI_dataset/training/disp_noc_0'\n",
    "img = cv2.imread(path+'000023_10.png',cv2.IMREAD_GRAYSCALE)\n",
    "img = np.array(img)\n",
    "plt.figure(0)\n",
    "plt.imshow(img, cmap ='jet')\n",
    "plt.show()\n",
    "print(img.shape)"
   ]
  },
  {
   "cell_type": "code",
   "execution_count": null,
   "metadata": {},
   "outputs": [],
   "source": [
    "a = np.array([[[1,3,4]]])\n",
    "print(a.shape)"
   ]
  },
  {
   "cell_type": "code",
   "execution_count": null,
   "metadata": {},
   "outputs": [],
   "source": [
    "path = '/media/sansii/Software/san_projects/Major_project/KITTI_dataset/2015/training/disp_noc_0/'\n",
    "img = cv2.imread(path+'000023_10.png',cv2.IMREAD_GRAYSCALE)\n",
    "right_padding = np.zeros_like(np.array(img))"
   ]
  },
  {
   "cell_type": "code",
   "execution_count": null,
   "metadata": {},
   "outputs": [],
   "source": [
    "right_padding = np.zeros((28,128 ,3))\n"
   ]
  },
  {
   "cell_type": "code",
   "execution_count": null,
   "metadata": {},
   "outputs": [],
   "source": [
    "def load_groudtruth_data(path):\n",
    "    gt_path = sorted(glob.glob(path+'KITTI_dataset/2015/training/disp_noc_0/*.png'))\n",
    "    for i in range(len(gt_path)):\n",
    "        gt = np.array(cv2.imread(gt_path[i], cv2.IMREAD_GRAYSCALE))\n",
    "        if gt.max() > 128:\n",
    "            print(\"                    \",end = '\\r')\n",
    "            gt = disparity_threshold(gt, 128)\n",
    "            print(\"Max:\", gt.max(),end = '\\r')\n",
    "            cv2.imshow('gt',gt)\n",
    "            cv2.waitKey(0)\n",
    "            cv2.destroyAllWindows()\n",
    "            \n",
    "            \n",
    "        "
   ]
  },
  {
   "cell_type": "code",
   "execution_count": 6,
   "metadata": {},
   "outputs": [
    {
     "ename": "NameError",
     "evalue": "name 'load_groudtruth_data' is not defined",
     "output_type": "error",
     "traceback": [
      "\u001b[0;31m---------------------------------------------------------------------------\u001b[0m",
      "\u001b[0;31mNameError\u001b[0m                                 Traceback (most recent call last)",
      "\u001b[0;32m<ipython-input-6-9849e4ff16f8>\u001b[0m in \u001b[0;36m<module>\u001b[0;34m\u001b[0m\n\u001b[1;32m      1\u001b[0m \u001b[0mpath\u001b[0m \u001b[0;34m=\u001b[0m \u001b[0;34m'/media/sansii/Software/san_projects/Major_project/'\u001b[0m\u001b[0;34m\u001b[0m\u001b[0;34m\u001b[0m\u001b[0m\n\u001b[0;32m----> 2\u001b[0;31m \u001b[0mload_groudtruth_data\u001b[0m\u001b[0;34m(\u001b[0m\u001b[0mpath\u001b[0m\u001b[0;34m)\u001b[0m\u001b[0;34m\u001b[0m\u001b[0;34m\u001b[0m\u001b[0m\n\u001b[0m",
      "\u001b[0;31mNameError\u001b[0m: name 'load_groudtruth_data' is not defined"
     ]
    }
   ],
   "source": [
    "path = '/media/sansii/Software/san_projects/Major_project/'\n"
   ]
  },
  {
   "cell_type": "code",
   "execution_count": null,
   "metadata": {},
   "outputs": [],
   "source": [
    "%matplotlib\n",
    "a = 47\n",
    "plt.subplot(2,2,1)\n",
    "plt.imshow(left[a])\n",
    "plt.subplot(2,2,2)\n",
    "\n",
    "plt.imshow(right[a])\n",
    "plt.subplot(2,2,3)\n",
    "plt.imshow(gt[a],cmap = 'jet')\n",
    "plt.subplot(2,2,4)\n",
    "plt.show()\n",
    "print(left.shape)"
   ]
  },
  {
   "cell_type": "code",
   "execution_count": 18,
   "metadata": {},
   "outputs": [],
   "source": [
    "deck = list(range(0, 200))\n",
    "np.random.shuffle(deck)"
   ]
  },
  {
   "cell_type": "code",
   "execution_count": 20,
   "metadata": {},
   "outputs": [
    {
     "name": "stdout",
     "output_type": "stream",
     "text": [
      "[53, 194, 54, 11, 147, 3, 159, 88, 36, 102, 164, 22, 105, 25, 49, 15, 60, 89, 98, 82, 68, 103, 21, 113, 190, 123, 19, 186, 119, 106, 127, 193, 14, 57, 146, 93, 157, 6, 46, 61]\n"
     ]
    }
   ],
   "source": [
    "print(deck[0:40])"
   ]
  },
  {
   "cell_type": "code",
   "execution_count": 38,
   "metadata": {},
   "outputs": [
    {
     "name": "stdout",
     "output_type": "stream",
     "text": [
      "0\n",
      "0\n",
      "0\n",
      "0\n",
      "1\n",
      "1\n",
      "1\n",
      "1\n",
      "1\n",
      "2\n",
      "2\n",
      "2\n",
      "2\n",
      "2\n",
      "3\n",
      "3\n",
      "3\n",
      "3\n",
      "3\n",
      "4\n",
      "4\n",
      "4\n",
      "4\n",
      "5\n",
      "5\n",
      "5\n",
      "5\n",
      "5\n",
      "6\n",
      "6\n",
      "6\n",
      "6\n"
     ]
    }
   ],
   "source": [
    "a = np.array([[0 ,1 ,2, 2, 2],[1, 5,6,7,8],[2,3,4,6,77],[3,22,33,44,55],[0,6,7,8,9],[4,22,11,33,55],[0,5,4,33,2]])\n",
    "valid_choices=np.where(a!=0)\n",
    "valid_choise = list(map(list,zip(*valid_choices)))\n",
    "for x_y_pair in valid_choise:\n",
    "    print(x_y_pair[0])\n"
   ]
  },
  {
   "cell_type": "code",
   "execution_count": 17,
   "metadata": {},
   "outputs": [],
   "source": [
    "path = '/media/sansii/Software/san_projects/Major_project/KITTI_dataset/2015/training/disp_noc_0/'\n",
    "\n",
    "img = cv2.imread(path+'000023_10.png',cv2.IMREAD_GRAYSCALE)"
   ]
  },
  {
   "cell_type": "code",
   "execution_count": 12,
   "metadata": {},
   "outputs": [
    {
     "data": {
      "text/plain": [
       "<matplotlib.image.AxesImage at 0x7f2534534860>"
      ]
     },
     "execution_count": 12,
     "metadata": {},
     "output_type": "execute_result"
    }
   ],
   "source": [
    "plt.imshow(img,cmap = 'jet')"
   ]
  },
  {
   "cell_type": "code",
   "execution_count": 18,
   "metadata": {},
   "outputs": [],
   "source": [
    "#Smoothing\n",
    "def disparity(left_matcher):\n",
    "    \n",
    "    right_matcher = cv2.ximgproc.createRightMatcher(matcher_left= left_matcher)\n",
    "\n",
    "    # FILTER Parameters\n",
    "    lmbda = 80000\n",
    "    sigma = 1.2\n",
    "    visual_multiplier = 1.0\n",
    "\n",
    "    wls_filter = cv2.ximgproc.createDisparityWLSFilter(matcher_left=left_matcher)\n",
    "    wls_filter.setLambda(lmbda)\n",
    "    wls_filter.setSigmaColor(sigma)\n",
    "\n",
    "    displ = left_matcher.compute(cv2.cvtColor(imgL,cv2.COLOR_BGR2GRAY), cv2.cvtColor(imgR,cv2.COLOR_BGR2GRAY)).astype(np.float32)/16\n",
    "    dispr = right_matcher.compute(imgR, imgL).astype(np.float32)/16\n",
    "    displ = np.int16(displ)\n",
    "    dispr = np.int16(dispr)\n",
    "    filteredImg = wls_filter.filter(displ, cv2.cvtColor(imgL,cv2.COLOR_BGR2GRAY), None, dispr)  # important to put \"imgL\" here!!!\n",
    "    #filteredImg = cv2.normalize(src=filteredImg, dst=filteredImg, beta=0, alpha=255, norm_type=cv2.NORM_MINMAX);\n",
    "    #filteredImg = np.uint8(filteredImg)\n",
    "   \n",
    "    return filteredImg"
   ]
  },
  {
   "cell_type": "code",
   "execution_count": 19,
   "metadata": {},
   "outputs": [
    {
     "ename": "TypeError",
     "evalue": "Expected Ptr<cv::StereoMatcher> for argument 'matcher_left'",
     "output_type": "error",
     "traceback": [
      "\u001b[0;31m---------------------------------------------------------------------------\u001b[0m",
      "\u001b[0;31mTypeError\u001b[0m                                 Traceback (most recent call last)",
      "\u001b[0;32m<ipython-input-19-c211c089f980>\u001b[0m in \u001b[0;36m<module>\u001b[0;34m\u001b[0m\n\u001b[0;32m----> 1\u001b[0;31m \u001b[0mfiltered_img\u001b[0m \u001b[0;34m=\u001b[0m \u001b[0mdisparity\u001b[0m\u001b[0;34m(\u001b[0m\u001b[0mimg\u001b[0m\u001b[0;34m)\u001b[0m\u001b[0;34m\u001b[0m\u001b[0;34m\u001b[0m\u001b[0m\n\u001b[0m",
      "\u001b[0;32m<ipython-input-18-8dede03b3ac0>\u001b[0m in \u001b[0;36mdisparity\u001b[0;34m(left_matcher)\u001b[0m\n\u001b[1;32m      2\u001b[0m \u001b[0;32mdef\u001b[0m \u001b[0mdisparity\u001b[0m\u001b[0;34m(\u001b[0m\u001b[0mleft_matcher\u001b[0m\u001b[0;34m)\u001b[0m\u001b[0;34m:\u001b[0m\u001b[0;34m\u001b[0m\u001b[0;34m\u001b[0m\u001b[0m\n\u001b[1;32m      3\u001b[0m \u001b[0;34m\u001b[0m\u001b[0m\n\u001b[0;32m----> 4\u001b[0;31m     \u001b[0mright_matcher\u001b[0m \u001b[0;34m=\u001b[0m \u001b[0mcv2\u001b[0m\u001b[0;34m.\u001b[0m\u001b[0mximgproc\u001b[0m\u001b[0;34m.\u001b[0m\u001b[0mcreateRightMatcher\u001b[0m\u001b[0;34m(\u001b[0m\u001b[0mmatcher_left\u001b[0m\u001b[0;34m=\u001b[0m \u001b[0mleft_matcher\u001b[0m\u001b[0;34m)\u001b[0m\u001b[0;34m\u001b[0m\u001b[0;34m\u001b[0m\u001b[0m\n\u001b[0m\u001b[1;32m      5\u001b[0m \u001b[0;34m\u001b[0m\u001b[0m\n\u001b[1;32m      6\u001b[0m     \u001b[0;31m# FILTER Parameters\u001b[0m\u001b[0;34m\u001b[0m\u001b[0;34m\u001b[0m\u001b[0;34m\u001b[0m\u001b[0m\n",
      "\u001b[0;31mTypeError\u001b[0m: Expected Ptr<cv::StereoMatcher> for argument 'matcher_left'"
     ]
    }
   ],
   "source": [
    "filtered_img = disparity(img)"
   ]
  },
  {
   "cell_type": "code",
   "execution_count": null,
   "metadata": {},
   "outputs": [],
   "source": []
  }
 ],
 "metadata": {
  "kernelspec": {
   "display_name": "Python 3",
   "language": "python",
   "name": "python3"
  },
  "language_info": {
   "codemirror_mode": {
    "name": "ipython",
    "version": 3
   },
   "file_extension": ".py",
   "mimetype": "text/x-python",
   "name": "python",
   "nbconvert_exporter": "python",
   "pygments_lexer": "ipython3",
   "version": "3.6.8"
  }
 },
 "nbformat": 4,
 "nbformat_minor": 2
}
